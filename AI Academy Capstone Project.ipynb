{
 "cells": [
  {
   "cell_type": "markdown",
   "metadata": {},
   "source": [
    "## Computing Vision Business Recommendations"
   ]
  },
  {
   "cell_type": "markdown",
   "metadata": {},
   "source": [
    "### Business Understanding"
   ]
  },
  {
   "cell_type": "markdown",
   "metadata": {},
   "source": [
    "Computing Vision is in a competitive industry and is looking to expand its business by creating original video content. The company has decided to create a new movie studio, but they don’t have much background in creating movies. As Deloitte professionals, we are responsible for exploring what types of films are currently doing the best at the box office using different samples of available data. After conducting extensive data analysis, our team will translate those findings into actionable insights that the head of Computing Vision's new movie studio can use to help decide what type of films to create."
   ]
  },
  {
   "cell_type": "markdown",
   "metadata": {},
   "source": [
    "#### Problem"
   ]
  },
  {
   "cell_type": "markdown",
   "metadata": {},
   "source": [
    "Computing Vision wants to successfully expand its business into the movie industry."
   ]
  },
  {
   "cell_type": "markdown",
   "metadata": {},
   "source": [
    "#### Stakeholders"
   ]
  },
  {
   "cell_type": "markdown",
   "metadata": {},
   "source": [
    "The stakeholders as they relate to this problem are Computing Vision as an organization, any members of the board or employees at the organization, and customers or clients of the organization. These groups are all impacted by the decisions Computing Vision makes."
   ]
  },
  {
   "cell_type": "markdown",
   "metadata": {},
   "source": [
    "### Load in Data"
   ]
  },
  {
   "cell_type": "markdown",
   "metadata": {},
   "source": [
    "#### Data Sources Used for Analysis"
   ]
  },
  {
   "cell_type": "markdown",
   "metadata": {},
   "source": [
    "IMDB: Database that contains information from the IMDB website, including general movie information. The data was collected within the SQL database, using the movies_basics, movie_ratings, directors, and persons tables and joined with the respective movie IDs\n",
    "\n",
    "Numbers & TheMovieDB: Datasets that contain information about movie popularity, movie budget, and total grossing information from themoviedb.org and the-numbers.com."
   ]
  },
  {
   "cell_type": "code",
   "execution_count": 171,
   "metadata": {},
   "outputs": [],
   "source": [
    "# import necessary packages\n",
    "import pandas as pd\n",
    "import numpy as np\n",
    "import sqlite3\n",
    "from pandasql import sqldf\n",
    "from matplotlib import pyplot as plt\n",
    "import seaborn as sns\n",
    "import scipy.stats as stats\n",
    "%matplotlib inline\n",
    "\n",
    "# load in data sets - some were not used in final analysis\n",
    "boxoffice = pd.read_csv('zippedData/bom.movie_gross.csv.gz')\n",
    "movie_info = pd.read_table('zippedData/rt.movie_info.tsv.gz')\n",
    "reviews = pd.read_table('zippedData/rt.reviews.tsv.gz', encoding='windows-1252')\n",
    "movies = pd.read_csv('zippedData/tmdb.movies.csv.gz', index_col=0)\n",
    "movie_budgets = pd.read_csv('zippedData/tn.movie_budgets.csv.gz', index_col=0)\n",
    "\n",
    "# connect to database\n",
    "conn = sqlite3.connect('zippedData/im.db')\n",
    "\n",
    "pysqldf = lambda q: sqldf(q, globals())"
   ]
  },
  {
   "cell_type": "markdown",
   "metadata": {},
   "source": [
    "### Create Master Dataset"
   ]
  },
  {
   "cell_type": "code",
   "execution_count": 172,
   "metadata": {},
   "outputs": [],
   "source": [
    "# join \"movie_basics\" and \"movie_ratings\" tables\n",
    "joined = pd.read_sql(\n",
    "    \"\"\"SELECT * \n",
    "    FROM movie_basics mb \n",
    "     JOIN movie_ratings mr \n",
    "      ON mb.movie_id=mr.movie_id \n",
    "     JOIN directors d \n",
    "      ON mb.movie_id = d.movie_id \n",
    "     JOIN persons p \n",
    "       ON d.person_id = p.person_id;\"\"\", conn)\n",
    "\n",
    "# join \"movie_budgets\" and \"movies\" data with \"joined\" data above\n",
    "q = \"\"\"SELECT * FROM joined j JOIN movie_budgets mb ON mb.movie=j.primary_title JOIN movies m ON m.original_title=j.original_title\"\"\"\n",
    "master_df = pysqldf(q).drop_duplicates(subset='primary_title', keep='first')"
   ]
  },
  {
   "cell_type": "markdown",
   "metadata": {},
   "source": [
    "The finalized data frame used for analysis combines the information from the two sources of data above, as well as profit calculations. We joined movie_basics with movie_ratings on ID, as they are both from the IMDB database. We then joined that table with two other movie datasets to create the master dataframe above."
   ]
  },
  {
   "cell_type": "markdown",
   "metadata": {},
   "source": [
    "### Data Cleaning"
   ]
  },
  {
   "cell_type": "markdown",
   "metadata": {},
   "source": [
    "Through our data cleaning, we dropped columns unneccessary for our analysis, we renamed duplicate column names to reflect their data sources, we converted two columns into lists, and we converted several columns to integers. We then used worldwide and domestic gross along with production budget to calculate worldwide and domestic profit. "
   ]
  },
  {
   "cell_type": "code",
   "execution_count": 173,
   "metadata": {},
   "outputs": [
    {
     "data": {
      "text/html": [
       "<div>\n",
       "<style scoped>\n",
       "    .dataframe tbody tr th:only-of-type {\n",
       "        vertical-align: middle;\n",
       "    }\n",
       "\n",
       "    .dataframe tbody tr th {\n",
       "        vertical-align: top;\n",
       "    }\n",
       "\n",
       "    .dataframe thead th {\n",
       "        text-align: right;\n",
       "    }\n",
       "</style>\n",
       "<table border=\"1\" class=\"dataframe\">\n",
       "  <thead>\n",
       "    <tr style=\"text-align: right;\">\n",
       "      <th></th>\n",
       "      <th>movie_id</th>\n",
       "      <th>primary_title</th>\n",
       "      <th>runtime_minutes</th>\n",
       "      <th>genres</th>\n",
       "      <th>imdb_average_rating</th>\n",
       "      <th>imdb_vote_count</th>\n",
       "      <th>person_id</th>\n",
       "      <th>primary_name</th>\n",
       "      <th>primary_profession</th>\n",
       "      <th>production_budget</th>\n",
       "      <th>domestic_gross</th>\n",
       "      <th>worldwide_gross</th>\n",
       "      <th>popularity</th>\n",
       "      <th>tmdb_vote_average</th>\n",
       "      <th>tmdb_vote_count</th>\n",
       "      <th>domestic_profit</th>\n",
       "      <th>worldwide_profit</th>\n",
       "    </tr>\n",
       "  </thead>\n",
       "  <tbody>\n",
       "    <tr>\n",
       "      <th>0</th>\n",
       "      <td>tt0249516</td>\n",
       "      <td>Foodfight!</td>\n",
       "      <td>91.0</td>\n",
       "      <td>[Action, Animation, Comedy]</td>\n",
       "      <td>1.9</td>\n",
       "      <td>8248</td>\n",
       "      <td>nm0440415</td>\n",
       "      <td>Lawrence Kasanoff</td>\n",
       "      <td>[producer, writer, director]</td>\n",
       "      <td>45000000</td>\n",
       "      <td>0</td>\n",
       "      <td>73706</td>\n",
       "      <td>4.705</td>\n",
       "      <td>2.1</td>\n",
       "      <td>46</td>\n",
       "      <td>-45000000</td>\n",
       "      <td>-44926294</td>\n",
       "    </tr>\n",
       "    <tr>\n",
       "      <th>5</th>\n",
       "      <td>tt0326592</td>\n",
       "      <td>The Overnight</td>\n",
       "      <td>88.0</td>\n",
       "      <td>None</td>\n",
       "      <td>7.5</td>\n",
       "      <td>24</td>\n",
       "      <td>nm1208371</td>\n",
       "      <td>Jed I. Goodman</td>\n",
       "      <td>[camera_department, writer, producer]</td>\n",
       "      <td>200000</td>\n",
       "      <td>1109808</td>\n",
       "      <td>1165996</td>\n",
       "      <td>6.576</td>\n",
       "      <td>6.0</td>\n",
       "      <td>200</td>\n",
       "      <td>909808</td>\n",
       "      <td>965996</td>\n",
       "    </tr>\n",
       "    <tr>\n",
       "      <th>7</th>\n",
       "      <td>tt0337692</td>\n",
       "      <td>On the Road</td>\n",
       "      <td>124.0</td>\n",
       "      <td>[Adventure, Drama, Romance]</td>\n",
       "      <td>6.1</td>\n",
       "      <td>37886</td>\n",
       "      <td>nm0758574</td>\n",
       "      <td>Walter Salles</td>\n",
       "      <td>[director, producer, writer]</td>\n",
       "      <td>25000000</td>\n",
       "      <td>720828</td>\n",
       "      <td>9313302</td>\n",
       "      <td>8.919</td>\n",
       "      <td>5.6</td>\n",
       "      <td>518</td>\n",
       "      <td>-24279172</td>\n",
       "      <td>-15686698</td>\n",
       "    </tr>\n",
       "  </tbody>\n",
       "</table>\n",
       "</div>"
      ],
      "text/plain": [
       "    movie_id  primary_title  runtime_minutes                       genres  \\\n",
       "0  tt0249516     Foodfight!             91.0  [Action, Animation, Comedy]   \n",
       "5  tt0326592  The Overnight             88.0                         None   \n",
       "7  tt0337692    On the Road            124.0  [Adventure, Drama, Romance]   \n",
       "\n",
       "   imdb_average_rating  imdb_vote_count  person_id       primary_name  \\\n",
       "0                  1.9             8248  nm0440415  Lawrence Kasanoff   \n",
       "5                  7.5               24  nm1208371     Jed I. Goodman   \n",
       "7                  6.1            37886  nm0758574      Walter Salles   \n",
       "\n",
       "                      primary_profession  production_budget  domestic_gross  \\\n",
       "0           [producer, writer, director]           45000000               0   \n",
       "5  [camera_department, writer, producer]             200000         1109808   \n",
       "7           [director, producer, writer]           25000000          720828   \n",
       "\n",
       "   worldwide_gross  popularity  tmdb_vote_average  tmdb_vote_count  \\\n",
       "0            73706       4.705                2.1               46   \n",
       "5          1165996       6.576                6.0              200   \n",
       "7          9313302       8.919                5.6              518   \n",
       "\n",
       "   domestic_profit  worldwide_profit  \n",
       "0        -45000000         -44926294  \n",
       "5           909808            965996  \n",
       "7        -24279172         -15686698  "
      ]
     },
     "execution_count": 173,
     "metadata": {},
     "output_type": "execute_result"
    }
   ],
   "source": [
    "# drop unneccessary columns\n",
    "new_master_df = master_df.drop([\"original_title\", \"id\", \"start_year\", \"movie\", \"title\", \"genre_ids\", \"original_language\", \"birth_year\", \"death_year\", 'release_date'], axis=1)\n",
    "\n",
    "# rename \"duplicate\" columns to reflect data source\n",
    "new_master_df = new_master_df.rename(columns={\"vote_average\": \"tmdb_vote_average\",\n",
    "                                              \"vote_count\": \"tmdb_vote_count\", \n",
    "                                              \"averagerating\": \"imdb_average_rating\", \n",
    "                                              \"numvotes\": \"imdb_vote_count\"})\n",
    "\n",
    "# convert the \"genres\" and \"primary_profession\" column into a list\n",
    "new_master_df[\"genres\"] = new_master_df[\"genres\"].str.split(',')\n",
    "new_master_df[\"primary_profession\"] = new_master_df[\"primary_profession\"].str.split(',')\n",
    "new_master_df\n",
    "\n",
    "# convert \"domestic_gross\", \"production_budget\", \"worldwide_gross\" to integers \n",
    "new_master_df['domestic_gross'] = new_master_df['domestic_gross'].str.replace(',', '').str.replace('$', '').astype(int)\n",
    "new_master_df['production_budget'] = new_master_df['production_budget'].str.replace(',', '').str.replace('$', '').astype(int)\n",
    "new_master_df['worldwide_gross'] = new_master_df['worldwide_gross'].str.replace(',', '').str.replace('$', '').astype(int)\n",
    "final_master_df = new_master_df\n",
    "final_master_df\n",
    "\n",
    "# calculate \"domestic_profit\" and \"worldwide_profit\" by subtracting \"production_budget\" from \"domestic_gross\" and \"worldwide_gross\"\n",
    "final_master_df['domestic_profit'] = final_master_df['domestic_gross'] - final_master_df['production_budget']\n",
    "final_master_df['worldwide_profit'] = final_master_df['worldwide_gross'] - final_master_df['production_budget']\n",
    "final_master_df.head(3)"
   ]
  },
  {
   "cell_type": "markdown",
   "metadata": {},
   "source": [
    "### Choosing the Metric: Profit"
   ]
  },
  {
   "cell_type": "markdown",
   "metadata": {},
   "source": [
    "There is a slightly positive correlation between rating and profit for movies with a minimum of 1000 votes."
   ]
  },
  {
   "cell_type": "code",
   "execution_count": 174,
   "metadata": {},
   "outputs": [
    {
     "data": {
      "text/plain": [
       "0.597382642103372"
      ]
     },
     "execution_count": 174,
     "metadata": {},
     "output_type": "execute_result"
    }
   ],
   "source": [
    "# correlation between \"popularity\" and \"worldwide_profit\"\n",
    "popularity_correlation = final_master_df['popularity'].corr(final_master_df['worldwide_profit'])\n",
    "popularity_correlation"
   ]
  },
  {
   "cell_type": "markdown",
   "metadata": {},
   "source": [
    "There is a slightly positive correlation between popularity and worldwide profit."
   ]
  },
  {
   "cell_type": "code",
   "execution_count": 175,
   "metadata": {
    "scrolled": true
   },
   "outputs": [
    {
     "data": {
      "image/png": "[encoded data removed]",
      "text/plain": [
       "<Figure size 1440x720 with 1 Axes>"
      ]
     },
     "metadata": {
      "needs_background": "light"
     },
     "output_type": "display_data"
    }
   ],
   "source": [
    "# scatterplot showing the relationship between \"popularity\" and \"worldwide_profit\"\n",
    "plt.figure(figsize=(20, 10))\n",
    "sns.scatterplot(y=final_master_df['worldwide_profit'], \n",
    "                x=final_master_df['popularity'], color=\"#86BC25\")\n",
    "\n",
    "# set barplot title and axes labels\n",
    "plt.title(label = \"Popularity vs Worldwide Profit\", fontsize=40)\n",
    "plt.xlabel(\"Popularity (0-100)\", fontsize=35)\n",
    "plt.ylabel(\"Worldwide Profit\", fontsize=35)\n",
    "\n",
    "# set x and y tick size\n",
    "plt.ticklabel_format(style='plain', axis='y')\n",
    "plt.xticks(size = 30)\n",
    "plt.yticks(size = 30);"
   ]
  },
  {
   "cell_type": "code",
   "execution_count": 176,
   "metadata": {},
   "outputs": [
    {
     "data": {
      "text/plain": [
       "0.25093081799095923"
      ]
     },
     "execution_count": 176,
     "metadata": {},
     "output_type": "execute_result"
    }
   ],
   "source": [
    "# correlation between \"imdb_average_rating\" and \"worldwide_profit\"\n",
    "average_rating = final_master_df['imdb_average_rating'].corr(final_master_df['worldwide_profit'])\n",
    "average_rating"
   ]
  },
  {
   "cell_type": "code",
   "execution_count": null,
   "metadata": {},
   "outputs": [],
   "source": [
    "# scatterplot showing the relationship between \"popularity\" and \"worldwide_profit\"\n",
    "plt.figure(figsize=(20, 10))\n",
    "sns.scatterplot(y=final_master_df['worldwide_profit'], \n",
    "            x=final_master_df['imdb_average_rating'], color=\"#86BC25\")\n",
    "\n",
    "# set barplot title and axes labels\n",
    "plt.title(label = \"IMDB Average Rating vs Worldwide Profit\", fontsize=40)\n",
    "plt.xlabel(\"Average Rating (0-10.0)\", fontsize=35)\n",
    "plt.ylabel(\"Worldwide Profit\", fontsize=35)\n",
    "\n",
    "# set x and y tick size\n",
    "plt.ticklabel_format(style='plain', axis='y')\n",
    "plt.xticks(size = 30)\n",
    "plt.yticks(size = 30);"
   ]
  },
  {
   "cell_type": "markdown",
   "metadata": {},
   "source": [
    "Profit was not initially included in our finalized dataset, so we calculated profit by subtracting production budget from gross worldwide revenue. Although profit isn't a perfect correlation with a movie's popularity and rating, profit is positively correlated with both a movie's popularity and its rating. It may not be a perfect correlation due to higher or lower production budgets for certain movies or the presence of other factors that may impact a movie's profit but not its popularity and rating. However, with the positive correlation with both other metrics, we considered that profit is not only indicative of financial measures important to stakeholders but also of audience preferences and popularity. We thought it was important to capture both parties within a metric representing a movie's success. "
   ]
  },
  {
   "cell_type": "markdown",
   "metadata": {},
   "source": [
    "### Recommendation #1: Genre"
   ]
  },
  {
   "cell_type": "code",
   "execution_count": null,
   "metadata": {},
   "outputs": [],
   "source": [
    "# explode table based on genres\n",
    "final = final_master_df\n",
    "final = final.dropna()\n",
    "final.reset_index(drop=True)\n",
    "final = final.explode('genres')\n",
    "final.head(3)"
   ]
  },
  {
   "cell_type": "markdown",
   "metadata": {},
   "source": [
    "We exploded the table and dropped null values in order to perform the genre calculations below."
   ]
  },
  {
   "cell_type": "code",
   "execution_count": null,
   "metadata": {},
   "outputs": [],
   "source": [
    "# find the mean of different genres of movies\n",
    "comedy = final[final['genres'] == 'Comedy'].mean()\n",
    "action = final[final['genres'] == 'Action'].mean()\n",
    "animation = final[final['genres'] == 'Animation'].mean()\n",
    "drama = final[final['genres'] == 'Drama'].mean()\n",
    "horror = final[final['genres'] == 'Horror'].mean()\n",
    "mystery = final[final['genres'] == 'Mystery'].mean()\n",
    "scifi = final[final['genres'] == 'Sci-Fi'].mean()\n",
    "adventure = final[final['genres'] == 'Adventure'].mean()\n",
    "romance = final[final['genres'] == 'Romance'].mean()\n",
    "thriller = final[final['genres'] == 'Thriller'].mean()\n",
    "crime = final[final['genres'] == 'Crime'].mean()\n",
    "biography = final[final['genres'] == 'Biography'].mean()\n",
    "fantasy = final[final['genres'] == 'Fantasy'].mean() \n",
    "family = final[final['genres'] == 'Family'].mean()\n",
    "\n",
    "\n",
    "# create dictionary of genres and means\n",
    "genre_profit = {\"Comedy\":comedy, \"Action\": action, \"Animation\": animation, \"Drama\": drama, \"Horror\": horror,\n",
    "               \"Mystery\": mystery, \"Sci-fi\": scifi, \"Adventure\": adventure, \"Romance\": romance, \"Thriller\": thriller, \n",
    "                \"Crime\": crime, \"Biography\": biography, \"Fantasy\": fantasy, \"Family\": family}\n",
    "\n",
    "# create a dataframe from the dictionary above\n",
    "mean_df = pd.DataFrame(genre_profit)\n",
    "\n",
    "# get worldwide profit; sort and prepare for graph below\n",
    "genres = mean_df.iloc[[10]]\n",
    "genres = genres.T.sort_values(\"worldwide_profit\", ascending=False)\n",
    "genres = genres.reset_index()\n",
    "\n",
    "# graph mean worldwide profit for different genres of movies\n",
    "colors = ['#86BC25', '#43B02A', '#26890D', '#0D8390', \n",
    "          '#007CB0', '#046A38', '#86BC25','#43B02A', \n",
    "          '#26890D', '#0D8390', '#007CB0', '#046A38', \n",
    "          '#43B02A', '#26890D']\n",
    "plt.figure(figsize=(40, 25))\n",
    "sns.barplot(x=\"index\", y=\"worldwide_profit\", data=genres, palette = colors)\n",
    "\n",
    "# set barplot title and axes labels\n",
    "plt.xlabel('Genres', fontsize = 35)\n",
    "plt.ylabel('Mean Worldwide Profit', fontsize = 35)\n",
    "plt.title('Mean Worldwide Profit for Different Genres of Movies', fontsize = 40);\n",
    "\n",
    "# set x and y tick size\n",
    "plt.ticklabel_format(style='plain', axis='y')\n",
    "plt.xticks(size = 30)\n",
    "plt.yticks(size = 30);"
   ]
  },
  {
   "cell_type": "markdown",
   "metadata": {},
   "source": [
    "We calculated the mean of all columns for the most popular genres. We then isolated the worldwide_profit value. We graphed these values in descending order. "
   ]
  },
  {
   "cell_type": "markdown",
   "metadata": {},
   "source": [
    "### Recommendation #2: Directors"
   ]
  },
  {
   "cell_type": "code",
   "execution_count": null,
   "metadata": {},
   "outputs": [],
   "source": [
    "# filter by directors who have produced 5+ movies\n",
    "final = final.groupby(\"primary_name\").filter(lambda x: len(x) >= 5)"
   ]
  },
  {
   "cell_type": "code",
   "execution_count": null,
   "metadata": {},
   "outputs": [],
   "source": [
    "directors_profit = final.groupby('primary_name').mean()['worldwide_gross'].sort_values(ascending=False).to_frame()\n",
    "directors_profit.head(3)"
   ]
  },
  {
   "cell_type": "code",
   "execution_count": null,
   "metadata": {},
   "outputs": [],
   "source": [
    "# create barplot of the top 8 directors with Deloitte color palette\n",
    "d = directors_profit.head(8)\n",
    "plt.figure(figsize=(35, 25))\n",
    "colors = ['#86BC25', '#43B02A', '#26890D', '#0D8390', \n",
    "          '#007CB0', '#046A38', '#86BC25','#43B02A', \n",
    "          '#26890D', '#0D8390', '#007CB0', '#046A38', \n",
    "          '#43B02A', '#26890D']\n",
    "\n",
    "ax = sns.barplot(x=d.index, y= d['worldwide_gross'], palette = colors)  \n",
    "\n",
    "# set barplot title and axes labels\n",
    "plt.title(label = \"Top 8 Movie Directors with the Highest Average Profit\", fontsize=40)\n",
    "plt.xlabel(\"Directors\", fontsize=35)\n",
    "plt.ylabel(\"Average Worldwide Profit\", fontsize=35)\n",
    "\n",
    "# set x and y tick size and format tick labels\n",
    "plt.ticklabel_format(style='plain', axis='y')\n",
    "plt.xticks(size = 30)\n",
    "plt.yticks(size = 30);"
   ]
  },
  {
   "cell_type": "code",
   "execution_count": null,
   "metadata": {},
   "outputs": [],
   "source": [
    "# numerical summary of the data above\n",
    "directors_profit = final.groupby('primary_name').mean()['worldwide_gross'].sort_values(ascending=False).to_frame()\n",
    "directors_profit.head(8)"
   ]
  },
  {
   "cell_type": "code",
   "execution_count": null,
   "metadata": {},
   "outputs": [],
   "source": [
    "# top 3 directors\n",
    "directors_profit.head(3)"
   ]
  },
  {
   "cell_type": "markdown",
   "metadata": {},
   "source": [
    "### Recommendation #3: Runtime"
   ]
  },
  {
   "cell_type": "markdown",
   "metadata": {},
   "source": [
    "#### Confidence Intervals"
   ]
  },
  {
   "cell_type": "markdown",
   "metadata": {},
   "source": [
    "To begin our analysis, we decided it would be best to find the confidence interval of the runtime minutes of a movie to have a range of values that most movies average around. With the confidence interval, we want to conduct hypothesis testing to test whether the range of runtime values impacts profitability which will be done after calculating the confidence interval"
   ]
  },
  {
   "cell_type": "code",
   "execution_count": null,
   "metadata": {
    "scrolled": true
   },
   "outputs": [],
   "source": [
    "# runtime statistics across all genres\n",
    "runtime = pd.DataFrame(final, columns=['runtime_minutes'])\n",
    "print(runtime.describe()) "
   ]
  },
  {
   "cell_type": "code",
   "execution_count": null,
   "metadata": {},
   "outputs": [],
   "source": [
    "# profitability statistics across all genres\n",
    "profit = pd.DataFrame(final, columns=['worldwide_profit'])\n",
    "print(profit.describe())"
   ]
  },
  {
   "cell_type": "code",
   "execution_count": null,
   "metadata": {},
   "outputs": [],
   "source": [
    "# histogram to show the distribution of \"runtime\"\n",
    "pd.DataFrame(runtime).hist(bins='auto',figsize=(9,9));"
   ]
  },
  {
   "cell_type": "markdown",
   "metadata": {},
   "source": [
    "As you can see in the histogram above, the distribution of the runtime is unimodal and looks almost normal. Let's calculate a 68% confidence interval just to start off our analysis."
   ]
  },
  {
   "cell_type": "code",
   "execution_count": null,
   "metadata": {},
   "outputs": [],
   "source": [
    "pd.DataFrame(profit).hist(bins='auto',figsize=(9,9));"
   ]
  },
  {
   "cell_type": "markdown",
   "metadata": {},
   "source": [
    "While majority of films seem to fall in a specific range in the histogram above, it is positively skewed. We want to test if there is a signficance on the profit distribution."
   ]
  },
  {
   "cell_type": "code",
   "execution_count": null,
   "metadata": {},
   "outputs": [],
   "source": [
    "# calculating the confidence interval within 1 standard deviation of the mean. A 68% chance that the runtime value would \n",
    "# fall in this range\n",
    "stats.norm.interval(0.68, loc=runtime.mean(), scale=runtime.std())"
   ]
  },
  {
   "cell_type": "markdown",
   "metadata": {},
   "source": [
    "We chose one standard deviation for runtime, because we didn't want a wide range of values for the runtime of the movie that would have a significant impact on other factors such as popularity or how many people watched it (this is an assumption). This is just a starting point to test significance.\n",
    "\n",
    "According to our calculation above the runtime within one standard deviation ranges from approximately 87.3 minutes to 122.7 minutes."
   ]
  },
  {
   "cell_type": "markdown",
   "metadata": {},
   "source": [
    "#### Hypothesis Testing"
   ]
  },
  {
   "cell_type": "markdown",
   "metadata": {},
   "source": [
    "Now that we have our confidence interval, we want to test if having a value within this range of runtime minutes (inclusive) positively impacts profitability. In simpler terms, does this range of runtime minutes ensure that the movie would be more profitable than movies with runtimes outside of this range."
   ]
  },
  {
   "cell_type": "markdown",
   "metadata": {},
   "source": [
    "Null Hypothesis: A runtime between 87.3 and 122.7 minutes will negatively impact or not impact profitability."
   ]
  },
  {
   "cell_type": "markdown",
   "metadata": {},
   "source": [
    "Alternate Hypothesis: A runtime between 87.3 and 122.7 minutes will positively impact profitability"
   ]
  },
  {
   "cell_type": "markdown",
   "metadata": {},
   "source": [
    "Since we are testing significance between two values, we are conducting a two-tailed test for our hypothesis testing"
   ]
  },
  {
   "cell_type": "code",
   "execution_count": null,
   "metadata": {
    "scrolled": false
   },
   "outputs": [],
   "source": [
    "sample_df1 = final[final['runtime_minutes'].between(87.29524865, 122.67584961, inclusive=True)]\n",
    "sample_df1.head(3)"
   ]
  },
  {
   "cell_type": "markdown",
   "metadata": {},
   "source": [
    "The datframe above is simply a filtered version of our original dataframe where it only includes rows that have a runtime value within the range listed above."
   ]
  },
  {
   "cell_type": "code",
   "execution_count": null,
   "metadata": {
    "scrolled": true
   },
   "outputs": [],
   "source": [
    "#mean lowered in this range\n",
    "sample_df1['worldwide_profit'].describe() "
   ]
  },
  {
   "cell_type": "markdown",
   "metadata": {},
   "source": [
    "We can see above that this range has a worldwide profit of 63 million dollars on average with a maximum value of 1.12 billion dollars in profit. Let's test to see whether the runtime values impact the profitability"
   ]
  },
  {
   "cell_type": "markdown",
   "metadata": {},
   "source": [
    "#### Two-Tailed Hypothesis Testing"
   ]
  },
  {
   "cell_type": "code",
   "execution_count": null,
   "metadata": {},
   "outputs": [],
   "source": [
    "# sample of all runtimes within the range of 87.29 to 122.67 mins\n",
    "group_runtime = sample_df1['runtime_minutes']\n",
    "\n",
    "# the respective worldwide \n",
    "group_profit = sample_df1['worldwide_profit']\n",
    "\n",
    "t_statistic, p_value = stats.ttest_ind(group_runtime,group_profit)\n",
    "\n",
    "alpha = 0.05"
   ]
  },
  {
   "cell_type": "code",
   "execution_count": null,
   "metadata": {},
   "outputs": [],
   "source": [
    "# results interpretation\n",
    "if p_value < alpha:\n",
    "    print(\"Reject null hypothesis, a runtime between 87.3 and 122.7 minutes will positively impact profitability\")\n",
    "else:\n",
    "    print(\"Fail to reject null hypothesis, a runtime between 87.3 and 122.7 minutes will negatively impact or not impact profitability\")"
   ]
  },
  {
   "cell_type": "markdown",
   "metadata": {},
   "source": [
    "#### Testing to Find the Most Profitable Runtime Ranges"
   ]
  },
  {
   "cell_type": "markdown",
   "metadata": {},
   "source": [
    "We already found 68% of the data spread range around the mean runtime. Let's expand the spread to 95% of the population and divide it into intervals based on standard deviations."
   ]
  },
  {
   "cell_type": "code",
   "execution_count": null,
   "metadata": {},
   "outputs": [],
   "source": [
    "stats.norm.interval(0.95, loc=runtime.mean(), scale=runtime.std())"
   ]
  },
  {
   "cell_type": "code",
   "execution_count": null,
   "metadata": {},
   "outputs": [],
   "source": [
    "sample_df2 = final[final['runtime_minutes'].between(0, 70.1199682, inclusive=True)]\n",
    "sample_df3 = final[final['runtime_minutes'].between(70.1199682, 87.29524865, inclusive=True)]\n",
    "sample_df4 = final[final['runtime_minutes'].between(87.29524865, 122.67584961, inclusive=True)]\n",
    "sample_df5 = final[final['runtime_minutes'].between(122.67584961, 139.85113007, inclusive=True)]\n",
    "sample_df6 = final[final['runtime_minutes'].between(139.85113007, 180, inclusive=True)]"
   ]
  },
  {
   "cell_type": "code",
   "execution_count": null,
   "metadata": {},
   "outputs": [],
   "source": [
    "#no movies between these runtimes in our cleaned dataframe\n",
    "sample_df2['worldwide_profit'].describe()"
   ]
  },
  {
   "cell_type": "code",
   "execution_count": null,
   "metadata": {},
   "outputs": [],
   "source": [
    "sample_df3['worldwide_profit'].describe() "
   ]
  },
  {
   "cell_type": "code",
   "execution_count": null,
   "metadata": {
    "scrolled": true
   },
   "outputs": [],
   "source": [
    "sample_df4['worldwide_profit'].describe() "
   ]
  },
  {
   "cell_type": "code",
   "execution_count": null,
   "metadata": {},
   "outputs": [],
   "source": [
    "sample_df5['worldwide_profit'].describe()"
   ]
  },
  {
   "cell_type": "code",
   "execution_count": null,
   "metadata": {},
   "outputs": [],
   "source": [
    "sample_df6['worldwide_profit'].describe()"
   ]
  },
  {
   "cell_type": "markdown",
   "metadata": {},
   "source": [
    "The sample_df6 range had the highest profitability on average and included the data point that had the highest worldwide profit in the dataset. While the count of data poins varied in each of these samples, we also observed the quartiles and maximum values in the respective intervals to back our recommendation. sample_df6 has a range of approximately 140 to 180 minutes of runtime with an average profitability of 295 million dollars, including the maximum value of 1.75 billion.\n",
    "\n",
    "Another observation is the range of profit values fluctuated as the runtime increased. While there is an overall positive correlation, the profit did not consistently increase as the runtime minutes increased."
   ]
  },
  {
   "cell_type": "markdown",
   "metadata": {},
   "source": [
    "Optimal runtime range is approximately 140 to 180 minutes for the most profitable films worldwide and across all genres"
   ]
  },
  {
   "cell_type": "markdown",
   "metadata": {},
   "source": [
    "#### Two-Tailed Hypothesis Testing: Test Significance of range 140 to 180 minutes of runtime on worldwide profit"
   ]
  },
  {
   "cell_type": "markdown",
   "metadata": {},
   "source": [
    "Null Hypothesis: A runtime between 140 and 180 minutes will negatively impact or not impact profitability"
   ]
  },
  {
   "cell_type": "markdown",
   "metadata": {},
   "source": [
    "Alternate Hypothesis: A runtime between 140 and 180 minutes will positively impact profitability"
   ]
  },
  {
   "cell_type": "code",
   "execution_count": null,
   "metadata": {},
   "outputs": [],
   "source": [
    "group_runtime1 = sample_df6['runtime_minutes']\n",
    "group_profit1 = sample_df6['worldwide_profit']\n",
    "\n",
    "t_statistic1, p_value1 = stats.ttest_ind(group_runtime1, group_profit1)\n",
    "\n",
    "alpha = 0.05"
   ]
  },
  {
   "cell_type": "code",
   "execution_count": null,
   "metadata": {},
   "outputs": [],
   "source": [
    "# results interpretation\n",
    "if p_value1 < alpha:\n",
    "    print(\"Reject null hypothesis, a runtime between 140 and 180 minutes will positively impact profitability\")\n",
    "else:\n",
    "    print(\"Fail to reject null hypothesis, a runtime between 140 and 180 minutes will negatively impact or not impact profitability\")"
   ]
  },
  {
   "cell_type": "markdown",
   "metadata": {},
   "source": [
    "#### Summary of Statistical Analysis"
   ]
  },
  {
   "cell_type": "markdown",
   "metadata": {},
   "source": [
    "We wanted Computing Vision to have a metric for a runtime that would be most profitable for them. Before we tested this, we wanted to test the significance of runtime on profit, to see if it truly has an impact. With 95% confidence, we found that there is a significance and we were able to reject the null hypothesis.\n",
    "\n",
    "We then moved on to find other ranges that might have been more profitable, and we found that the most profitable movies on average have a runtime that ranges from 140 to 180 minutes. To ensure that this range still had an effect on the profit we ran the hypothesis test again to confirm its impact on worldwide profit."
   ]
  },
  {
   "cell_type": "markdown",
   "metadata": {},
   "source": [
    "### Conclusion"
   ]
  },
  {
   "cell_type": "markdown",
   "metadata": {},
   "source": [
    "Overall, our recommendations provide Computing Vision with actionable insights to decide what types of films they should specialize in for their new movie studio. These include Animation, Adventure, and Science Fiction movies with an emphasis on movies directed by one of the top directors within your desired genre. Further, we recommend the movie be within the optimal runtime of 140 to 180 minutes to generate the most profit. With these 3 recommendations, we believe that Computing Vision will be successful in starting a new movie studio."
   ]
  }
 ],
 "metadata": {
  "kernelspec": {
   "display_name": "Python 3",
   "language": "python",
   "name": "python3"
  },
  "language_info": {
   "codemirror_mode": {
    "name": "ipython",
    "version": 3
   },
   "file_extension": ".py",
   "mimetype": "text/x-python",
   "name": "python",
   "nbconvert_exporter": "python",
   "pygments_lexer": "ipython3",
   "version": "3.8.5"
  }
 },
 "nbformat": 4,
 "nbformat_minor": 4
}
