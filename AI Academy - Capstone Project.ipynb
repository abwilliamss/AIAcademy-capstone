{
 "cells": [
  {
   "cell_type": "code",
   "execution_count": 8,
   "id": "489c51d2",
   "metadata": {},
   "outputs": [],
   "source": [
    "import pandas as pd\n",
    "import sql"
   ]
  },
  {
   "cell_type": "code",
   "execution_count": 10,
   "id": "cf22e0de",
   "metadata": {},
   "outputs": [],
   "source": [
    "boxoffice = pd.read_csv('zippedData/bom.movie_gross.csv.gz')\n",
    "movie_info = pd.read_table('zippedData/rt.movie_info.tsv.gz')\n",
    "reviews = pd.read_table('zippedData/rt.reviews.tsv.gz', encoding='windows-1252')\n",
    "movies = pd.read_csv('zippedData/tmdb.movies.csv.gz', index_col=0)\n",
    "movie_budgets = pd.read_csv('zippedData/tn.movie_budgets.csv.gz', index_col=0)"
   ]
  }
 ],
 "metadata": {
  "kernelspec": {
   "display_name": "Python 3 (ipykernel)",
   "language": "python",
   "name": "python3"
  },
  "language_info": {
   "codemirror_mode": {
    "name": "ipython",
    "version": 3
   },
   "file_extension": ".py",
   "mimetype": "text/x-python",
   "name": "python",
   "nbconvert_exporter": "python",
   "pygments_lexer": "ipython3",
   "version": "3.11.3"
  }
 },
 "nbformat": 4,
 "nbformat_minor": 5
}
